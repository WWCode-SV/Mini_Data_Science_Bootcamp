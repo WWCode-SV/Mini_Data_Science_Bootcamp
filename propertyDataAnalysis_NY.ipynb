{
  "nbformat": 4,
  "nbformat_minor": 0,
  "metadata": {
    "colab": {
      "name": "propertyDataAnalysis_NY.ipynb",
      "provenance": []
    },
    "kernelspec": {
      "name": "python3",
      "display_name": "Python 3"
    }
  },
  "cells": [
    {
      "cell_type": "code",
      "metadata": {
        "id": "e8LVx8SQtU3S",
        "colab_type": "code",
        "outputId": "d41b1a54-0d32-4bd6-a422-64e86c1a216f",
        "colab": {
          "base_uri": "https://localhost:8080/",
          "height": 34
        }
      },
      "source": [
        "from google.colab import drive\n",
        "\n",
        "drive.mount('/content/gdrive')"
      ],
      "execution_count": 0,
      "outputs": [
        {
          "output_type": "stream",
          "text": [
            "Drive already mounted at /content/gdrive; to attempt to forcibly remount, call drive.mount(\"/content/gdrive\", force_remount=True).\n"
          ],
          "name": "stdout"
        }
      ]
    },
    {
      "cell_type": "code",
      "metadata": {
        "id": "9uW1BdPx1MH2",
        "colab_type": "code",
        "outputId": "8e6d4036-74d1-47bb-a8eb-17a9fadcbc22",
        "colab": {
          "base_uri": "https://localhost:8080/",
          "height": 51
        }
      },
      "source": [
        "!ls \"/content/gdrive/My Drive/Python for Exploratory Data Analysis\""
      ],
      "execution_count": 0,
      "outputs": [
        {
          "output_type": "stream",
          "text": [
            "airbnb-listings.csv   properties.csv\n",
            "ClimateDataEDA.ipynb  propertyDataAnalysis_NY.ipynb\n"
          ],
          "name": "stdout"
        }
      ]
    },
    {
      "cell_type": "code",
      "metadata": {
        "id": "2o_-PgwV1wtw",
        "colab_type": "code",
        "colab": {}
      },
      "source": [
        "import pandas as pd\n",
        "import numpy as np\n",
        "import matplotlib.pyplot as plt\n",
        "import seaborn as sns\n",
        "\n",
        "%matplotlib inline"
      ],
      "execution_count": 0,
      "outputs": []
    },
    {
      "cell_type": "code",
      "metadata": {
        "id": "WPKZeoQQ19P_",
        "colab_type": "code",
        "colab": {}
      },
      "source": [
        "#Load the dataset\n",
        "property_data = pd.read_csv(\"/content/gdrive/My Drive/Python for Exploratory Data Analysis/properties.csv\")"
      ],
      "execution_count": 0,
      "outputs": []
    },
    {
      "cell_type": "code",
      "metadata": {
        "id": "ej_sx-FC2Gcn",
        "colab_type": "code",
        "outputId": "e6438608-3096-4dad-9db6-7cd4bc12e129",
        "colab": {
          "base_uri": "https://localhost:8080/",
          "height": 359
        }
      },
      "source": [
        "property_data.head(10)"
      ],
      "execution_count": 0,
      "outputs": [
        {
          "output_type": "execute_result",
          "data": {
            "text/html": [
              "<div>\n",
              "<style scoped>\n",
              "    .dataframe tbody tr th:only-of-type {\n",
              "        vertical-align: middle;\n",
              "    }\n",
              "\n",
              "    .dataframe tbody tr th {\n",
              "        vertical-align: top;\n",
              "    }\n",
              "\n",
              "    .dataframe thead th {\n",
              "        text-align: right;\n",
              "    }\n",
              "</style>\n",
              "<table border=\"1\" class=\"dataframe\">\n",
              "  <thead>\n",
              "    <tr style=\"text-align: right;\">\n",
              "      <th></th>\n",
              "      <th>title</th>\n",
              "      <th>address</th>\n",
              "      <th>city</th>\n",
              "      <th>state</th>\n",
              "      <th>postal_code</th>\n",
              "      <th>price</th>\n",
              "      <th>facts and features</th>\n",
              "      <th>real estate provider</th>\n",
              "      <th>url</th>\n",
              "    </tr>\n",
              "  </thead>\n",
              "  <tbody>\n",
              "    <tr>\n",
              "      <th>0</th>\n",
              "      <td>Condo For Sale</td>\n",
              "      <td>515 W 29th St APT 3N</td>\n",
              "      <td>New York</td>\n",
              "      <td>NY</td>\n",
              "      <td>10001</td>\n",
              "      <td>$5,250,000</td>\n",
              "      <td>2 bds , 3 ba , 2,133 sqft</td>\n",
              "      <td>NaN</td>\n",
              "      <td>https://www.zillow.com/homedetails/515-W-29th-...</td>\n",
              "    </tr>\n",
              "    <tr>\n",
              "      <th>1</th>\n",
              "      <td>Condo For Sale</td>\n",
              "      <td>515 W 29th St APT 3S</td>\n",
              "      <td>New York</td>\n",
              "      <td>NY</td>\n",
              "      <td>10001</td>\n",
              "      <td>$5,450,000</td>\n",
              "      <td>2 bds , 3 ba , 2,140 sqft</td>\n",
              "      <td>NaN</td>\n",
              "      <td>https://www.zillow.com/homedetails/515-W-29th-...</td>\n",
              "    </tr>\n",
              "    <tr>\n",
              "      <th>2</th>\n",
              "      <td>Condo For Sale</td>\n",
              "      <td>515 W 29th St APT 5S</td>\n",
              "      <td>New York</td>\n",
              "      <td>NY</td>\n",
              "      <td>10001</td>\n",
              "      <td>$5,750,000</td>\n",
              "      <td>2 bds , 3 ba , 2,140 sqft</td>\n",
              "      <td>NaN</td>\n",
              "      <td>https://www.zillow.com/homedetails/515-W-29th-...</td>\n",
              "    </tr>\n",
              "    <tr>\n",
              "      <th>3</th>\n",
              "      <td>Condo For Sale</td>\n",
              "      <td>357 W 30TH St APT 2</td>\n",
              "      <td>NEW YORK</td>\n",
              "      <td>NY</td>\n",
              "      <td>10001</td>\n",
              "      <td>$675,000</td>\n",
              "      <td>Studio , 1 ba , 453 sqft</td>\n",
              "      <td>Halstead Property</td>\n",
              "      <td>https://www.zillow.com/homedetails/357-W-30TH-...</td>\n",
              "    </tr>\n",
              "    <tr>\n",
              "      <th>4</th>\n",
              "      <td>Condo For Sale</td>\n",
              "      <td>520 W 28th St # 5</td>\n",
              "      <td>New York</td>\n",
              "      <td>NY</td>\n",
              "      <td>10001</td>\n",
              "      <td>$6,450,000</td>\n",
              "      <td>3 bds , 4 ba , 2,065 sqft</td>\n",
              "      <td>NaN</td>\n",
              "      <td>https://www.zillow.com/homedetails/520-W-28th-...</td>\n",
              "    </tr>\n",
              "    <tr>\n",
              "      <th>5</th>\n",
              "      <td>Condo For Sale</td>\n",
              "      <td>261 W 25th St # 6A</td>\n",
              "      <td>New York</td>\n",
              "      <td>NY</td>\n",
              "      <td>10001</td>\n",
              "      <td>$1,460,000</td>\n",
              "      <td>1 bd , 1 ba , 720 sqft</td>\n",
              "      <td>NaN</td>\n",
              "      <td>https://www.zillow.com/homedetails/261-W-25th-...</td>\n",
              "    </tr>\n",
              "    <tr>\n",
              "      <th>6</th>\n",
              "      <td>Condo For Sale</td>\n",
              "      <td>252 7TH Ave APT 10V</td>\n",
              "      <td>NEW YORK</td>\n",
              "      <td>NY</td>\n",
              "      <td>10001</td>\n",
              "      <td>$2,875,000</td>\n",
              "      <td>2 bds , 2 ba , 1,478 sqft</td>\n",
              "      <td>NaN</td>\n",
              "      <td>https://www.zillow.com/homedetails/252-7TH-Ave...</td>\n",
              "    </tr>\n",
              "    <tr>\n",
              "      <th>7</th>\n",
              "      <td>Co-op For Sale</td>\n",
              "      <td>133 W 28th St APT 7B</td>\n",
              "      <td>New York</td>\n",
              "      <td>NY</td>\n",
              "      <td>10001</td>\n",
              "      <td>$1,150,000</td>\n",
              "      <td>1 bd , 1 ba , 900 sqft</td>\n",
              "      <td>Compass</td>\n",
              "      <td>https://www.zillow.com/homedetails/133-W-28th-...</td>\n",
              "    </tr>\n",
              "    <tr>\n",
              "      <th>8</th>\n",
              "      <td>Condo For Sale</td>\n",
              "      <td>1182 Broadway APT 12B</td>\n",
              "      <td>New York</td>\n",
              "      <td>NY</td>\n",
              "      <td>10001</td>\n",
              "      <td>$2,450,000</td>\n",
              "      <td>1 bd , 1 ba , 879 sqft</td>\n",
              "      <td>Douglas Elliman</td>\n",
              "      <td>https://www.zillow.com/homedetails/1182-Broadw...</td>\n",
              "    </tr>\n",
              "    <tr>\n",
              "      <th>9</th>\n",
              "      <td>Condo For Sale</td>\n",
              "      <td>520 W 28th St # 34</td>\n",
              "      <td>New York</td>\n",
              "      <td>NY</td>\n",
              "      <td>10001</td>\n",
              "      <td>$16,000,000</td>\n",
              "      <td>4 bds , 5 ba , 4,023 sqft</td>\n",
              "      <td>NaN</td>\n",
              "      <td>https://www.zillow.com/homedetails/520-W-28th-...</td>\n",
              "    </tr>\n",
              "  </tbody>\n",
              "</table>\n",
              "</div>"
            ],
            "text/plain": [
              "            title  ...                                                url\n",
              "0  Condo For Sale  ...  https://www.zillow.com/homedetails/515-W-29th-...\n",
              "1  Condo For Sale  ...  https://www.zillow.com/homedetails/515-W-29th-...\n",
              "2  Condo For Sale  ...  https://www.zillow.com/homedetails/515-W-29th-...\n",
              "3  Condo For Sale  ...  https://www.zillow.com/homedetails/357-W-30TH-...\n",
              "4  Condo For Sale  ...  https://www.zillow.com/homedetails/520-W-28th-...\n",
              "5  Condo For Sale  ...  https://www.zillow.com/homedetails/261-W-25th-...\n",
              "6  Condo For Sale  ...  https://www.zillow.com/homedetails/252-7TH-Ave...\n",
              "7  Co-op For Sale  ...  https://www.zillow.com/homedetails/133-W-28th-...\n",
              "8  Condo For Sale  ...  https://www.zillow.com/homedetails/1182-Broadw...\n",
              "9  Condo For Sale  ...  https://www.zillow.com/homedetails/520-W-28th-...\n",
              "\n",
              "[10 rows x 9 columns]"
            ]
          },
          "metadata": {
            "tags": []
          },
          "execution_count": 37
        }
      ]
    },
    {
      "cell_type": "code",
      "metadata": {
        "id": "LPRLuefFPPeg",
        "colab_type": "code",
        "colab": {}
      },
      "source": [
        "#Questions:\n",
        "#The price in relation to how many beds, baths and square feet\n",
        "#the Price is relation to the type of the property\n",
        "#The price in relation to the city and zipcode."
      ],
      "execution_count": 0,
      "outputs": []
    },
    {
      "cell_type": "code",
      "metadata": {
        "id": "pflvxHoH2KBZ",
        "colab_type": "code",
        "colab": {}
      },
      "source": [
        "#drop the url and real estate provider\n",
        "property_data = property_data.drop(['url','real estate provider'],axis=1)\n",
        "\n",
        "#city to lower case\n",
        "property_data['city'] = property_data['city'].str.lower()"
      ],
      "execution_count": 0,
      "outputs": []
    },
    {
      "cell_type": "code",
      "metadata": {
        "id": "oD1-kwa93IXP",
        "colab_type": "code",
        "outputId": "a80d0f84-2f5f-4e57-a436-b1be13a216cf",
        "colab": {
          "base_uri": "https://localhost:8080/",
          "height": 204
        }
      },
      "source": [
        "property_data.head()"
      ],
      "execution_count": 0,
      "outputs": [
        {
          "output_type": "execute_result",
          "data": {
            "text/html": [
              "<div>\n",
              "<style scoped>\n",
              "    .dataframe tbody tr th:only-of-type {\n",
              "        vertical-align: middle;\n",
              "    }\n",
              "\n",
              "    .dataframe tbody tr th {\n",
              "        vertical-align: top;\n",
              "    }\n",
              "\n",
              "    .dataframe thead th {\n",
              "        text-align: right;\n",
              "    }\n",
              "</style>\n",
              "<table border=\"1\" class=\"dataframe\">\n",
              "  <thead>\n",
              "    <tr style=\"text-align: right;\">\n",
              "      <th></th>\n",
              "      <th>title</th>\n",
              "      <th>address</th>\n",
              "      <th>city</th>\n",
              "      <th>state</th>\n",
              "      <th>postal_code</th>\n",
              "      <th>price</th>\n",
              "      <th>facts and features</th>\n",
              "    </tr>\n",
              "  </thead>\n",
              "  <tbody>\n",
              "    <tr>\n",
              "      <th>0</th>\n",
              "      <td>Condo For Sale</td>\n",
              "      <td>515 W 29th St APT 3N</td>\n",
              "      <td>new york</td>\n",
              "      <td>NY</td>\n",
              "      <td>10001</td>\n",
              "      <td>$5,250,000</td>\n",
              "      <td>2 bds , 3 ba , 2,133 sqft</td>\n",
              "    </tr>\n",
              "    <tr>\n",
              "      <th>1</th>\n",
              "      <td>Condo For Sale</td>\n",
              "      <td>515 W 29th St APT 3S</td>\n",
              "      <td>new york</td>\n",
              "      <td>NY</td>\n",
              "      <td>10001</td>\n",
              "      <td>$5,450,000</td>\n",
              "      <td>2 bds , 3 ba , 2,140 sqft</td>\n",
              "    </tr>\n",
              "    <tr>\n",
              "      <th>2</th>\n",
              "      <td>Condo For Sale</td>\n",
              "      <td>515 W 29th St APT 5S</td>\n",
              "      <td>new york</td>\n",
              "      <td>NY</td>\n",
              "      <td>10001</td>\n",
              "      <td>$5,750,000</td>\n",
              "      <td>2 bds , 3 ba , 2,140 sqft</td>\n",
              "    </tr>\n",
              "    <tr>\n",
              "      <th>3</th>\n",
              "      <td>Condo For Sale</td>\n",
              "      <td>357 W 30TH St APT 2</td>\n",
              "      <td>new york</td>\n",
              "      <td>NY</td>\n",
              "      <td>10001</td>\n",
              "      <td>$675,000</td>\n",
              "      <td>Studio , 1 ba , 453 sqft</td>\n",
              "    </tr>\n",
              "    <tr>\n",
              "      <th>4</th>\n",
              "      <td>Condo For Sale</td>\n",
              "      <td>520 W 28th St # 5</td>\n",
              "      <td>new york</td>\n",
              "      <td>NY</td>\n",
              "      <td>10001</td>\n",
              "      <td>$6,450,000</td>\n",
              "      <td>3 bds , 4 ba , 2,065 sqft</td>\n",
              "    </tr>\n",
              "  </tbody>\n",
              "</table>\n",
              "</div>"
            ],
            "text/plain": [
              "            title               address  ...       price         facts and features\n",
              "0  Condo For Sale  515 W 29th St APT 3N  ...  $5,250,000  2 bds , 3 ba , 2,133 sqft\n",
              "1  Condo For Sale  515 W 29th St APT 3S  ...  $5,450,000  2 bds , 3 ba , 2,140 sqft\n",
              "2  Condo For Sale  515 W 29th St APT 5S  ...  $5,750,000  2 bds , 3 ba , 2,140 sqft\n",
              "3  Condo For Sale   357 W 30TH St APT 2  ...    $675,000   Studio , 1 ba , 453 sqft\n",
              "4  Condo For Sale     520 W 28th St # 5  ...  $6,450,000  3 bds , 4 ba , 2,065 sqft\n",
              "\n",
              "[5 rows x 7 columns]"
            ]
          },
          "metadata": {
            "tags": []
          },
          "execution_count": 39
        }
      ]
    },
    {
      "cell_type": "code",
      "metadata": {
        "id": "ScAI2NMS3bHh",
        "colab_type": "code",
        "colab": {}
      },
      "source": [
        "#Creating new columns to splt out the features.\n",
        "new = property_data[\"facts and features\"].str.split(', ', n=2,expand=True)"
      ],
      "execution_count": 0,
      "outputs": []
    },
    {
      "cell_type": "code",
      "metadata": {
        "id": "IKgzBqI53b36",
        "colab_type": "code",
        "colab": {}
      },
      "source": [
        "property_data['beds'] = new[0]\n",
        "property_data['baths'] = new[1]\n",
        "property_data['sqft'] = new[2]"
      ],
      "execution_count": 0,
      "outputs": []
    },
    {
      "cell_type": "code",
      "metadata": {
        "id": "GVQ87lhi3hlc",
        "colab_type": "code",
        "outputId": "f3e43414-4b4a-4a8c-f7a5-917578ccf109",
        "colab": {
          "base_uri": "https://localhost:8080/",
          "height": 204
        }
      },
      "source": [
        "property_data.head()"
      ],
      "execution_count": 0,
      "outputs": [
        {
          "output_type": "execute_result",
          "data": {
            "text/html": [
              "<div>\n",
              "<style scoped>\n",
              "    .dataframe tbody tr th:only-of-type {\n",
              "        vertical-align: middle;\n",
              "    }\n",
              "\n",
              "    .dataframe tbody tr th {\n",
              "        vertical-align: top;\n",
              "    }\n",
              "\n",
              "    .dataframe thead th {\n",
              "        text-align: right;\n",
              "    }\n",
              "</style>\n",
              "<table border=\"1\" class=\"dataframe\">\n",
              "  <thead>\n",
              "    <tr style=\"text-align: right;\">\n",
              "      <th></th>\n",
              "      <th>title</th>\n",
              "      <th>address</th>\n",
              "      <th>city</th>\n",
              "      <th>state</th>\n",
              "      <th>postal_code</th>\n",
              "      <th>price</th>\n",
              "      <th>facts and features</th>\n",
              "      <th>beds</th>\n",
              "      <th>baths</th>\n",
              "      <th>sqft</th>\n",
              "    </tr>\n",
              "  </thead>\n",
              "  <tbody>\n",
              "    <tr>\n",
              "      <th>0</th>\n",
              "      <td>Condo For Sale</td>\n",
              "      <td>515 W 29th St APT 3N</td>\n",
              "      <td>new york</td>\n",
              "      <td>NY</td>\n",
              "      <td>10001</td>\n",
              "      <td>$5,250,000</td>\n",
              "      <td>2 bds , 3 ba , 2,133 sqft</td>\n",
              "      <td>2 bds</td>\n",
              "      <td>3 ba</td>\n",
              "      <td>2,133 sqft</td>\n",
              "    </tr>\n",
              "    <tr>\n",
              "      <th>1</th>\n",
              "      <td>Condo For Sale</td>\n",
              "      <td>515 W 29th St APT 3S</td>\n",
              "      <td>new york</td>\n",
              "      <td>NY</td>\n",
              "      <td>10001</td>\n",
              "      <td>$5,450,000</td>\n",
              "      <td>2 bds , 3 ba , 2,140 sqft</td>\n",
              "      <td>2 bds</td>\n",
              "      <td>3 ba</td>\n",
              "      <td>2,140 sqft</td>\n",
              "    </tr>\n",
              "    <tr>\n",
              "      <th>2</th>\n",
              "      <td>Condo For Sale</td>\n",
              "      <td>515 W 29th St APT 5S</td>\n",
              "      <td>new york</td>\n",
              "      <td>NY</td>\n",
              "      <td>10001</td>\n",
              "      <td>$5,750,000</td>\n",
              "      <td>2 bds , 3 ba , 2,140 sqft</td>\n",
              "      <td>2 bds</td>\n",
              "      <td>3 ba</td>\n",
              "      <td>2,140 sqft</td>\n",
              "    </tr>\n",
              "    <tr>\n",
              "      <th>3</th>\n",
              "      <td>Condo For Sale</td>\n",
              "      <td>357 W 30TH St APT 2</td>\n",
              "      <td>new york</td>\n",
              "      <td>NY</td>\n",
              "      <td>10001</td>\n",
              "      <td>$675,000</td>\n",
              "      <td>Studio , 1 ba , 453 sqft</td>\n",
              "      <td>Studio</td>\n",
              "      <td>1 ba</td>\n",
              "      <td>453 sqft</td>\n",
              "    </tr>\n",
              "    <tr>\n",
              "      <th>4</th>\n",
              "      <td>Condo For Sale</td>\n",
              "      <td>520 W 28th St # 5</td>\n",
              "      <td>new york</td>\n",
              "      <td>NY</td>\n",
              "      <td>10001</td>\n",
              "      <td>$6,450,000</td>\n",
              "      <td>3 bds , 4 ba , 2,065 sqft</td>\n",
              "      <td>3 bds</td>\n",
              "      <td>4 ba</td>\n",
              "      <td>2,065 sqft</td>\n",
              "    </tr>\n",
              "  </tbody>\n",
              "</table>\n",
              "</div>"
            ],
            "text/plain": [
              "            title               address      city  ...     beds  baths        sqft\n",
              "0  Condo For Sale  515 W 29th St APT 3N  new york  ...   2 bds   3 ba   2,133 sqft\n",
              "1  Condo For Sale  515 W 29th St APT 3S  new york  ...   2 bds   3 ba   2,140 sqft\n",
              "2  Condo For Sale  515 W 29th St APT 5S  new york  ...   2 bds   3 ba   2,140 sqft\n",
              "3  Condo For Sale   357 W 30TH St APT 2  new york  ...  Studio   1 ba     453 sqft\n",
              "4  Condo For Sale     520 W 28th St # 5  new york  ...   3 bds   4 ba   2,065 sqft\n",
              "\n",
              "[5 rows x 10 columns]"
            ]
          },
          "metadata": {
            "tags": []
          },
          "execution_count": 42
        }
      ]
    },
    {
      "cell_type": "code",
      "metadata": {
        "id": "i1rpl5cE3NbZ",
        "colab_type": "code",
        "colab": {}
      },
      "source": [
        "#Number of beds\n",
        "property_data['beds'] = property_data['beds'].map(lambda x: x.rstrip(' bds'))\n",
        "\n",
        "#number of baths\n",
        "property_data['baths'] = property_data['baths'].map(lambda x: x.rstrip(' ba'))\n",
        "\n",
        "#square ft\n",
        "property_data['sqft'] = property_data['sqft'].map(lambda x: x.rstrip(' sqft'))"
      ],
      "execution_count": 0,
      "outputs": []
    },
    {
      "cell_type": "code",
      "metadata": {
        "id": "M3xhRmMh3rvO",
        "colab_type": "code",
        "outputId": "2cffb807-31ae-4d3b-89c0-9f756bbb225c",
        "colab": {
          "base_uri": "https://localhost:8080/",
          "height": 204
        }
      },
      "source": [
        "property_data.head()"
      ],
      "execution_count": 0,
      "outputs": [
        {
          "output_type": "execute_result",
          "data": {
            "text/html": [
              "<div>\n",
              "<style scoped>\n",
              "    .dataframe tbody tr th:only-of-type {\n",
              "        vertical-align: middle;\n",
              "    }\n",
              "\n",
              "    .dataframe tbody tr th {\n",
              "        vertical-align: top;\n",
              "    }\n",
              "\n",
              "    .dataframe thead th {\n",
              "        text-align: right;\n",
              "    }\n",
              "</style>\n",
              "<table border=\"1\" class=\"dataframe\">\n",
              "  <thead>\n",
              "    <tr style=\"text-align: right;\">\n",
              "      <th></th>\n",
              "      <th>title</th>\n",
              "      <th>address</th>\n",
              "      <th>city</th>\n",
              "      <th>state</th>\n",
              "      <th>postal_code</th>\n",
              "      <th>price</th>\n",
              "      <th>facts and features</th>\n",
              "      <th>beds</th>\n",
              "      <th>baths</th>\n",
              "      <th>sqft</th>\n",
              "    </tr>\n",
              "  </thead>\n",
              "  <tbody>\n",
              "    <tr>\n",
              "      <th>0</th>\n",
              "      <td>Condo For Sale</td>\n",
              "      <td>515 W 29th St APT 3N</td>\n",
              "      <td>new york</td>\n",
              "      <td>NY</td>\n",
              "      <td>10001</td>\n",
              "      <td>$5,250,000</td>\n",
              "      <td>2 bds , 3 ba , 2,133 sqft</td>\n",
              "      <td>2</td>\n",
              "      <td>3</td>\n",
              "      <td>2,133</td>\n",
              "    </tr>\n",
              "    <tr>\n",
              "      <th>1</th>\n",
              "      <td>Condo For Sale</td>\n",
              "      <td>515 W 29th St APT 3S</td>\n",
              "      <td>new york</td>\n",
              "      <td>NY</td>\n",
              "      <td>10001</td>\n",
              "      <td>$5,450,000</td>\n",
              "      <td>2 bds , 3 ba , 2,140 sqft</td>\n",
              "      <td>2</td>\n",
              "      <td>3</td>\n",
              "      <td>2,140</td>\n",
              "    </tr>\n",
              "    <tr>\n",
              "      <th>2</th>\n",
              "      <td>Condo For Sale</td>\n",
              "      <td>515 W 29th St APT 5S</td>\n",
              "      <td>new york</td>\n",
              "      <td>NY</td>\n",
              "      <td>10001</td>\n",
              "      <td>$5,750,000</td>\n",
              "      <td>2 bds , 3 ba , 2,140 sqft</td>\n",
              "      <td>2</td>\n",
              "      <td>3</td>\n",
              "      <td>2,140</td>\n",
              "    </tr>\n",
              "    <tr>\n",
              "      <th>3</th>\n",
              "      <td>Condo For Sale</td>\n",
              "      <td>357 W 30TH St APT 2</td>\n",
              "      <td>new york</td>\n",
              "      <td>NY</td>\n",
              "      <td>10001</td>\n",
              "      <td>$675,000</td>\n",
              "      <td>Studio , 1 ba , 453 sqft</td>\n",
              "      <td>Studio</td>\n",
              "      <td>1</td>\n",
              "      <td>453</td>\n",
              "    </tr>\n",
              "    <tr>\n",
              "      <th>4</th>\n",
              "      <td>Condo For Sale</td>\n",
              "      <td>520 W 28th St # 5</td>\n",
              "      <td>new york</td>\n",
              "      <td>NY</td>\n",
              "      <td>10001</td>\n",
              "      <td>$6,450,000</td>\n",
              "      <td>3 bds , 4 ba , 2,065 sqft</td>\n",
              "      <td>3</td>\n",
              "      <td>4</td>\n",
              "      <td>2,065</td>\n",
              "    </tr>\n",
              "  </tbody>\n",
              "</table>\n",
              "</div>"
            ],
            "text/plain": [
              "            title               address      city  ...    beds  baths   sqft\n",
              "0  Condo For Sale  515 W 29th St APT 3N  new york  ...       2      3  2,133\n",
              "1  Condo For Sale  515 W 29th St APT 3S  new york  ...       2      3  2,140\n",
              "2  Condo For Sale  515 W 29th St APT 5S  new york  ...       2      3  2,140\n",
              "3  Condo For Sale   357 W 30TH St APT 2  new york  ...  Studio      1    453\n",
              "4  Condo For Sale     520 W 28th St # 5  new york  ...       3      4  2,065\n",
              "\n",
              "[5 rows x 10 columns]"
            ]
          },
          "metadata": {
            "tags": []
          },
          "execution_count": 44
        }
      ]
    },
    {
      "cell_type": "code",
      "metadata": {
        "id": "pIMC0FG74Ao6",
        "colab_type": "code",
        "colab": {}
      },
      "source": [
        "#since now we don't need facts and features drop the column\n",
        "property_data = property_data.drop(['facts and features'],axis=1)"
      ],
      "execution_count": 0,
      "outputs": []
    },
    {
      "cell_type": "code",
      "metadata": {
        "id": "wkCc9fEl4OMi",
        "colab_type": "code",
        "outputId": "da3b4c8f-6e87-4e9a-c6f4-b07e9a4dbe3c",
        "colab": {
          "base_uri": "https://localhost:8080/",
          "height": 204
        }
      },
      "source": [
        "property_data.head()"
      ],
      "execution_count": 0,
      "outputs": [
        {
          "output_type": "execute_result",
          "data": {
            "text/html": [
              "<div>\n",
              "<style scoped>\n",
              "    .dataframe tbody tr th:only-of-type {\n",
              "        vertical-align: middle;\n",
              "    }\n",
              "\n",
              "    .dataframe tbody tr th {\n",
              "        vertical-align: top;\n",
              "    }\n",
              "\n",
              "    .dataframe thead th {\n",
              "        text-align: right;\n",
              "    }\n",
              "</style>\n",
              "<table border=\"1\" class=\"dataframe\">\n",
              "  <thead>\n",
              "    <tr style=\"text-align: right;\">\n",
              "      <th></th>\n",
              "      <th>title</th>\n",
              "      <th>address</th>\n",
              "      <th>city</th>\n",
              "      <th>state</th>\n",
              "      <th>postal_code</th>\n",
              "      <th>price</th>\n",
              "      <th>beds</th>\n",
              "      <th>baths</th>\n",
              "      <th>sqft</th>\n",
              "    </tr>\n",
              "  </thead>\n",
              "  <tbody>\n",
              "    <tr>\n",
              "      <th>0</th>\n",
              "      <td>Condo For Sale</td>\n",
              "      <td>515 W 29th St APT 3N</td>\n",
              "      <td>new york</td>\n",
              "      <td>NY</td>\n",
              "      <td>10001</td>\n",
              "      <td>$5,250,000</td>\n",
              "      <td>2</td>\n",
              "      <td>3</td>\n",
              "      <td>2,133</td>\n",
              "    </tr>\n",
              "    <tr>\n",
              "      <th>1</th>\n",
              "      <td>Condo For Sale</td>\n",
              "      <td>515 W 29th St APT 3S</td>\n",
              "      <td>new york</td>\n",
              "      <td>NY</td>\n",
              "      <td>10001</td>\n",
              "      <td>$5,450,000</td>\n",
              "      <td>2</td>\n",
              "      <td>3</td>\n",
              "      <td>2,140</td>\n",
              "    </tr>\n",
              "    <tr>\n",
              "      <th>2</th>\n",
              "      <td>Condo For Sale</td>\n",
              "      <td>515 W 29th St APT 5S</td>\n",
              "      <td>new york</td>\n",
              "      <td>NY</td>\n",
              "      <td>10001</td>\n",
              "      <td>$5,750,000</td>\n",
              "      <td>2</td>\n",
              "      <td>3</td>\n",
              "      <td>2,140</td>\n",
              "    </tr>\n",
              "    <tr>\n",
              "      <th>3</th>\n",
              "      <td>Condo For Sale</td>\n",
              "      <td>357 W 30TH St APT 2</td>\n",
              "      <td>new york</td>\n",
              "      <td>NY</td>\n",
              "      <td>10001</td>\n",
              "      <td>$675,000</td>\n",
              "      <td>Studio</td>\n",
              "      <td>1</td>\n",
              "      <td>453</td>\n",
              "    </tr>\n",
              "    <tr>\n",
              "      <th>4</th>\n",
              "      <td>Condo For Sale</td>\n",
              "      <td>520 W 28th St # 5</td>\n",
              "      <td>new york</td>\n",
              "      <td>NY</td>\n",
              "      <td>10001</td>\n",
              "      <td>$6,450,000</td>\n",
              "      <td>3</td>\n",
              "      <td>4</td>\n",
              "      <td>2,065</td>\n",
              "    </tr>\n",
              "  </tbody>\n",
              "</table>\n",
              "</div>"
            ],
            "text/plain": [
              "            title               address      city  ...    beds  baths   sqft\n",
              "0  Condo For Sale  515 W 29th St APT 3N  new york  ...       2      3  2,133\n",
              "1  Condo For Sale  515 W 29th St APT 3S  new york  ...       2      3  2,140\n",
              "2  Condo For Sale  515 W 29th St APT 5S  new york  ...       2      3  2,140\n",
              "3  Condo For Sale   357 W 30TH St APT 2  new york  ...  Studio      1    453\n",
              "4  Condo For Sale     520 W 28th St # 5  new york  ...       3      4  2,065\n",
              "\n",
              "[5 rows x 9 columns]"
            ]
          },
          "metadata": {
            "tags": []
          },
          "execution_count": 46
        }
      ]
    },
    {
      "cell_type": "code",
      "metadata": {
        "id": "T0Xus1cM4qxS",
        "colab_type": "code",
        "outputId": "5659449d-e579-49a1-f28a-7a68ff7700ac",
        "colab": {
          "base_uri": "https://localhost:8080/",
          "height": 204
        }
      },
      "source": [
        "#To remove the $ from price.\n",
        "property_data['price'] = property_data['price'].map(lambda x: x.lstrip('$'))\n",
        "property_data.head()"
      ],
      "execution_count": 0,
      "outputs": [
        {
          "output_type": "execute_result",
          "data": {
            "text/html": [
              "<div>\n",
              "<style scoped>\n",
              "    .dataframe tbody tr th:only-of-type {\n",
              "        vertical-align: middle;\n",
              "    }\n",
              "\n",
              "    .dataframe tbody tr th {\n",
              "        vertical-align: top;\n",
              "    }\n",
              "\n",
              "    .dataframe thead th {\n",
              "        text-align: right;\n",
              "    }\n",
              "</style>\n",
              "<table border=\"1\" class=\"dataframe\">\n",
              "  <thead>\n",
              "    <tr style=\"text-align: right;\">\n",
              "      <th></th>\n",
              "      <th>title</th>\n",
              "      <th>address</th>\n",
              "      <th>city</th>\n",
              "      <th>state</th>\n",
              "      <th>postal_code</th>\n",
              "      <th>price</th>\n",
              "      <th>beds</th>\n",
              "      <th>baths</th>\n",
              "      <th>sqft</th>\n",
              "    </tr>\n",
              "  </thead>\n",
              "  <tbody>\n",
              "    <tr>\n",
              "      <th>0</th>\n",
              "      <td>Condo For Sale</td>\n",
              "      <td>515 W 29th St APT 3N</td>\n",
              "      <td>new york</td>\n",
              "      <td>NY</td>\n",
              "      <td>10001</td>\n",
              "      <td>5,250,000</td>\n",
              "      <td>2</td>\n",
              "      <td>3</td>\n",
              "      <td>2,133</td>\n",
              "    </tr>\n",
              "    <tr>\n",
              "      <th>1</th>\n",
              "      <td>Condo For Sale</td>\n",
              "      <td>515 W 29th St APT 3S</td>\n",
              "      <td>new york</td>\n",
              "      <td>NY</td>\n",
              "      <td>10001</td>\n",
              "      <td>5,450,000</td>\n",
              "      <td>2</td>\n",
              "      <td>3</td>\n",
              "      <td>2,140</td>\n",
              "    </tr>\n",
              "    <tr>\n",
              "      <th>2</th>\n",
              "      <td>Condo For Sale</td>\n",
              "      <td>515 W 29th St APT 5S</td>\n",
              "      <td>new york</td>\n",
              "      <td>NY</td>\n",
              "      <td>10001</td>\n",
              "      <td>5,750,000</td>\n",
              "      <td>2</td>\n",
              "      <td>3</td>\n",
              "      <td>2,140</td>\n",
              "    </tr>\n",
              "    <tr>\n",
              "      <th>3</th>\n",
              "      <td>Condo For Sale</td>\n",
              "      <td>357 W 30TH St APT 2</td>\n",
              "      <td>new york</td>\n",
              "      <td>NY</td>\n",
              "      <td>10001</td>\n",
              "      <td>675,000</td>\n",
              "      <td>Studio</td>\n",
              "      <td>1</td>\n",
              "      <td>453</td>\n",
              "    </tr>\n",
              "    <tr>\n",
              "      <th>4</th>\n",
              "      <td>Condo For Sale</td>\n",
              "      <td>520 W 28th St # 5</td>\n",
              "      <td>new york</td>\n",
              "      <td>NY</td>\n",
              "      <td>10001</td>\n",
              "      <td>6,450,000</td>\n",
              "      <td>3</td>\n",
              "      <td>4</td>\n",
              "      <td>2,065</td>\n",
              "    </tr>\n",
              "  </tbody>\n",
              "</table>\n",
              "</div>"
            ],
            "text/plain": [
              "            title               address      city  ...    beds  baths   sqft\n",
              "0  Condo For Sale  515 W 29th St APT 3N  new york  ...       2      3  2,133\n",
              "1  Condo For Sale  515 W 29th St APT 3S  new york  ...       2      3  2,140\n",
              "2  Condo For Sale  515 W 29th St APT 5S  new york  ...       2      3  2,140\n",
              "3  Condo For Sale   357 W 30TH St APT 2  new york  ...  Studio      1    453\n",
              "4  Condo For Sale     520 W 28th St # 5  new york  ...       3      4  2,065\n",
              "\n",
              "[5 rows x 9 columns]"
            ]
          },
          "metadata": {
            "tags": []
          },
          "execution_count": 47
        }
      ]
    },
    {
      "cell_type": "code",
      "metadata": {
        "id": "prZpHptR4yLj",
        "colab_type": "code",
        "colab": {}
      },
      "source": [
        "#To get the type of property for sale.\n",
        "new_type = property_data[\"title\"].str.split(' ', n=2,expand=True)"
      ],
      "execution_count": 0,
      "outputs": []
    },
    {
      "cell_type": "code",
      "metadata": {
        "id": "tK983ZG_40ep",
        "colab_type": "code",
        "outputId": "60dd5254-3a37-4865-ef03-f478e418b51d",
        "colab": {
          "base_uri": "https://localhost:8080/",
          "height": 204
        }
      },
      "source": [
        "property_data['type'] = new_type[0]\n",
        "property_data.head()"
      ],
      "execution_count": 0,
      "outputs": [
        {
          "output_type": "execute_result",
          "data": {
            "text/html": [
              "<div>\n",
              "<style scoped>\n",
              "    .dataframe tbody tr th:only-of-type {\n",
              "        vertical-align: middle;\n",
              "    }\n",
              "\n",
              "    .dataframe tbody tr th {\n",
              "        vertical-align: top;\n",
              "    }\n",
              "\n",
              "    .dataframe thead th {\n",
              "        text-align: right;\n",
              "    }\n",
              "</style>\n",
              "<table border=\"1\" class=\"dataframe\">\n",
              "  <thead>\n",
              "    <tr style=\"text-align: right;\">\n",
              "      <th></th>\n",
              "      <th>title</th>\n",
              "      <th>address</th>\n",
              "      <th>city</th>\n",
              "      <th>state</th>\n",
              "      <th>postal_code</th>\n",
              "      <th>price</th>\n",
              "      <th>beds</th>\n",
              "      <th>baths</th>\n",
              "      <th>sqft</th>\n",
              "      <th>type</th>\n",
              "    </tr>\n",
              "  </thead>\n",
              "  <tbody>\n",
              "    <tr>\n",
              "      <th>0</th>\n",
              "      <td>Condo For Sale</td>\n",
              "      <td>515 W 29th St APT 3N</td>\n",
              "      <td>new york</td>\n",
              "      <td>NY</td>\n",
              "      <td>10001</td>\n",
              "      <td>5,250,000</td>\n",
              "      <td>2</td>\n",
              "      <td>3</td>\n",
              "      <td>2,133</td>\n",
              "      <td>Condo</td>\n",
              "    </tr>\n",
              "    <tr>\n",
              "      <th>1</th>\n",
              "      <td>Condo For Sale</td>\n",
              "      <td>515 W 29th St APT 3S</td>\n",
              "      <td>new york</td>\n",
              "      <td>NY</td>\n",
              "      <td>10001</td>\n",
              "      <td>5,450,000</td>\n",
              "      <td>2</td>\n",
              "      <td>3</td>\n",
              "      <td>2,140</td>\n",
              "      <td>Condo</td>\n",
              "    </tr>\n",
              "    <tr>\n",
              "      <th>2</th>\n",
              "      <td>Condo For Sale</td>\n",
              "      <td>515 W 29th St APT 5S</td>\n",
              "      <td>new york</td>\n",
              "      <td>NY</td>\n",
              "      <td>10001</td>\n",
              "      <td>5,750,000</td>\n",
              "      <td>2</td>\n",
              "      <td>3</td>\n",
              "      <td>2,140</td>\n",
              "      <td>Condo</td>\n",
              "    </tr>\n",
              "    <tr>\n",
              "      <th>3</th>\n",
              "      <td>Condo For Sale</td>\n",
              "      <td>357 W 30TH St APT 2</td>\n",
              "      <td>new york</td>\n",
              "      <td>NY</td>\n",
              "      <td>10001</td>\n",
              "      <td>675,000</td>\n",
              "      <td>Studio</td>\n",
              "      <td>1</td>\n",
              "      <td>453</td>\n",
              "      <td>Condo</td>\n",
              "    </tr>\n",
              "    <tr>\n",
              "      <th>4</th>\n",
              "      <td>Condo For Sale</td>\n",
              "      <td>520 W 28th St # 5</td>\n",
              "      <td>new york</td>\n",
              "      <td>NY</td>\n",
              "      <td>10001</td>\n",
              "      <td>6,450,000</td>\n",
              "      <td>3</td>\n",
              "      <td>4</td>\n",
              "      <td>2,065</td>\n",
              "      <td>Condo</td>\n",
              "    </tr>\n",
              "  </tbody>\n",
              "</table>\n",
              "</div>"
            ],
            "text/plain": [
              "            title               address      city  ... baths   sqft   type\n",
              "0  Condo For Sale  515 W 29th St APT 3N  new york  ...     3  2,133  Condo\n",
              "1  Condo For Sale  515 W 29th St APT 3S  new york  ...     3  2,140  Condo\n",
              "2  Condo For Sale  515 W 29th St APT 5S  new york  ...     3  2,140  Condo\n",
              "3  Condo For Sale   357 W 30TH St APT 2  new york  ...     1    453  Condo\n",
              "4  Condo For Sale     520 W 28th St # 5  new york  ...     4  2,065  Condo\n",
              "\n",
              "[5 rows x 10 columns]"
            ]
          },
          "metadata": {
            "tags": []
          },
          "execution_count": 49
        }
      ]
    },
    {
      "cell_type": "code",
      "metadata": {
        "id": "W2q-e0da47c9",
        "colab_type": "code",
        "colab": {}
      },
      "source": [
        "property_data = property_data.drop('title',axis=1)"
      ],
      "execution_count": 0,
      "outputs": []
    },
    {
      "cell_type": "code",
      "metadata": {
        "id": "AD4dhXGCXg69",
        "colab_type": "code",
        "outputId": "54e73aad-49e3-4ea2-8354-ee8b370b4360",
        "colab": {
          "base_uri": "https://localhost:8080/",
          "height": 204
        }
      },
      "source": [
        "property_data.head()"
      ],
      "execution_count": 0,
      "outputs": [
        {
          "output_type": "execute_result",
          "data": {
            "text/html": [
              "<div>\n",
              "<style scoped>\n",
              "    .dataframe tbody tr th:only-of-type {\n",
              "        vertical-align: middle;\n",
              "    }\n",
              "\n",
              "    .dataframe tbody tr th {\n",
              "        vertical-align: top;\n",
              "    }\n",
              "\n",
              "    .dataframe thead th {\n",
              "        text-align: right;\n",
              "    }\n",
              "</style>\n",
              "<table border=\"1\" class=\"dataframe\">\n",
              "  <thead>\n",
              "    <tr style=\"text-align: right;\">\n",
              "      <th></th>\n",
              "      <th>address</th>\n",
              "      <th>city</th>\n",
              "      <th>state</th>\n",
              "      <th>postal_code</th>\n",
              "      <th>price</th>\n",
              "      <th>beds</th>\n",
              "      <th>baths</th>\n",
              "      <th>sqft</th>\n",
              "      <th>type</th>\n",
              "    </tr>\n",
              "  </thead>\n",
              "  <tbody>\n",
              "    <tr>\n",
              "      <th>0</th>\n",
              "      <td>515 W 29th St APT 3N</td>\n",
              "      <td>new york</td>\n",
              "      <td>NY</td>\n",
              "      <td>10001</td>\n",
              "      <td>5250000.0</td>\n",
              "      <td>2</td>\n",
              "      <td>3</td>\n",
              "      <td>2,133</td>\n",
              "      <td>Condo</td>\n",
              "    </tr>\n",
              "    <tr>\n",
              "      <th>1</th>\n",
              "      <td>515 W 29th St APT 3S</td>\n",
              "      <td>new york</td>\n",
              "      <td>NY</td>\n",
              "      <td>10001</td>\n",
              "      <td>5450000.0</td>\n",
              "      <td>2</td>\n",
              "      <td>3</td>\n",
              "      <td>2,140</td>\n",
              "      <td>Condo</td>\n",
              "    </tr>\n",
              "    <tr>\n",
              "      <th>2</th>\n",
              "      <td>515 W 29th St APT 5S</td>\n",
              "      <td>new york</td>\n",
              "      <td>NY</td>\n",
              "      <td>10001</td>\n",
              "      <td>5750000.0</td>\n",
              "      <td>2</td>\n",
              "      <td>3</td>\n",
              "      <td>2,140</td>\n",
              "      <td>Condo</td>\n",
              "    </tr>\n",
              "    <tr>\n",
              "      <th>3</th>\n",
              "      <td>357 W 30TH St APT 2</td>\n",
              "      <td>new york</td>\n",
              "      <td>NY</td>\n",
              "      <td>10001</td>\n",
              "      <td>675000.0</td>\n",
              "      <td>Studio</td>\n",
              "      <td>1</td>\n",
              "      <td>453</td>\n",
              "      <td>Condo</td>\n",
              "    </tr>\n",
              "    <tr>\n",
              "      <th>4</th>\n",
              "      <td>520 W 28th St # 5</td>\n",
              "      <td>new york</td>\n",
              "      <td>NY</td>\n",
              "      <td>10001</td>\n",
              "      <td>6450000.0</td>\n",
              "      <td>3</td>\n",
              "      <td>4</td>\n",
              "      <td>2,065</td>\n",
              "      <td>Condo</td>\n",
              "    </tr>\n",
              "  </tbody>\n",
              "</table>\n",
              "</div>"
            ],
            "text/plain": [
              "                address      city state  ...  baths   sqft   type\n",
              "0  515 W 29th St APT 3N  new york    NY  ...      3  2,133  Condo\n",
              "1  515 W 29th St APT 3S  new york    NY  ...      3  2,140  Condo\n",
              "2  515 W 29th St APT 5S  new york    NY  ...      3  2,140  Condo\n",
              "3   357 W 30TH St APT 2  new york    NY  ...      1    453  Condo\n",
              "4     520 W 28th St # 5  new york    NY  ...      4  2,065  Condo\n",
              "\n",
              "[5 rows x 9 columns]"
            ]
          },
          "metadata": {
            "tags": []
          },
          "execution_count": 76
        }
      ]
    },
    {
      "cell_type": "code",
      "metadata": {
        "id": "afUmfZJu5ESp",
        "colab_type": "code",
        "outputId": "e13fa979-aaa4-4140-b2f2-af2353e290ae",
        "colab": {
          "base_uri": "https://localhost:8080/",
          "height": 34
        }
      },
      "source": [
        "#how many unique zipcodes\n",
        "property_data['postal_code'].unique()"
      ],
      "execution_count": 0,
      "outputs": [
        {
          "output_type": "execute_result",
          "data": {
            "text/plain": [
              "array([10001, 10002, 10003, 10004])"
            ]
          },
          "metadata": {
            "tags": []
          },
          "execution_count": 51
        }
      ]
    },
    {
      "cell_type": "code",
      "metadata": {
        "id": "XqDiOtYZ5IYJ",
        "colab_type": "code",
        "outputId": "1fcad250-6760-45c5-ea4a-7fcf580e894b",
        "colab": {
          "base_uri": "https://localhost:8080/",
          "height": 34
        }
      },
      "source": [
        "#number of unique post codes\n",
        "print(\"Number of unique postal codes: \", property_data['postal_code'].nunique())"
      ],
      "execution_count": 0,
      "outputs": [
        {
          "output_type": "stream",
          "text": [
            "Number of unique postal codes:  4\n"
          ],
          "name": "stdout"
        }
      ]
    },
    {
      "cell_type": "code",
      "metadata": {
        "id": "KevCIIsZO2SL",
        "colab_type": "code",
        "colab": {}
      },
      "source": [
        "#To count the properties available per zip code\n",
        "count = property_data['postal_code'].value_counts()"
      ],
      "execution_count": 0,
      "outputs": []
    },
    {
      "cell_type": "code",
      "metadata": {
        "id": "uGPvJ0CDOFdc",
        "colab_type": "code",
        "outputId": "80dbe363-d814-48d9-c23e-e14561d33728",
        "colab": {
          "base_uri": "https://localhost:8080/",
          "height": 334
        }
      },
      "source": [
        "property_data['postal_code'].value_counts().plot(kind='bar')\n",
        "plt.xlabel('Postal Code')\n",
        "plt.ylabel('Count')\n",
        "plt.title('Properties available per postal code')"
      ],
      "execution_count": 0,
      "outputs": [
        {
          "output_type": "execute_result",
          "data": {
            "text/plain": [
              "Text(0.5, 1.0, 'Properties available per postal code')"
            ]
          },
          "metadata": {
            "tags": []
          },
          "execution_count": 55
        },
        {
          "output_type": "display_data",
          "data": {
            "image/png": "[encoded data removed]",
            "text/plain": [
              "<Figure size 432x288 with 1 Axes>"
            ]
          },
          "metadata": {
            "tags": []
          }
        }
      ]
    },
    {
      "cell_type": "code",
      "metadata": {
        "id": "laC1jz40OICQ",
        "colab_type": "code",
        "colab": {}
      },
      "source": [
        "property_data['price']=property_data['price'].str.split(',').str.join('')"
      ],
      "execution_count": 0,
      "outputs": []
    },
    {
      "cell_type": "code",
      "metadata": {
        "id": "J7YkLF9eONaB",
        "colab_type": "code",
        "outputId": "c2d952f3-eea4-4a69-9b0b-bc05d5b8149d",
        "colab": {
          "base_uri": "https://localhost:8080/",
          "height": 204
        }
      },
      "source": [
        "property_data.head()"
      ],
      "execution_count": 0,
      "outputs": [
        {
          "output_type": "execute_result",
          "data": {
            "text/html": [
              "<div>\n",
              "<style scoped>\n",
              "    .dataframe tbody tr th:only-of-type {\n",
              "        vertical-align: middle;\n",
              "    }\n",
              "\n",
              "    .dataframe tbody tr th {\n",
              "        vertical-align: top;\n",
              "    }\n",
              "\n",
              "    .dataframe thead th {\n",
              "        text-align: right;\n",
              "    }\n",
              "</style>\n",
              "<table border=\"1\" class=\"dataframe\">\n",
              "  <thead>\n",
              "    <tr style=\"text-align: right;\">\n",
              "      <th></th>\n",
              "      <th>address</th>\n",
              "      <th>city</th>\n",
              "      <th>state</th>\n",
              "      <th>postal_code</th>\n",
              "      <th>price</th>\n",
              "      <th>beds</th>\n",
              "      <th>baths</th>\n",
              "      <th>sqft</th>\n",
              "      <th>type</th>\n",
              "    </tr>\n",
              "  </thead>\n",
              "  <tbody>\n",
              "    <tr>\n",
              "      <th>0</th>\n",
              "      <td>515 W 29th St APT 3N</td>\n",
              "      <td>new york</td>\n",
              "      <td>NY</td>\n",
              "      <td>10001</td>\n",
              "      <td>5250000</td>\n",
              "      <td>2</td>\n",
              "      <td>3</td>\n",
              "      <td>2,133</td>\n",
              "      <td>Condo</td>\n",
              "    </tr>\n",
              "    <tr>\n",
              "      <th>1</th>\n",
              "      <td>515 W 29th St APT 3S</td>\n",
              "      <td>new york</td>\n",
              "      <td>NY</td>\n",
              "      <td>10001</td>\n",
              "      <td>5450000</td>\n",
              "      <td>2</td>\n",
              "      <td>3</td>\n",
              "      <td>2,140</td>\n",
              "      <td>Condo</td>\n",
              "    </tr>\n",
              "    <tr>\n",
              "      <th>2</th>\n",
              "      <td>515 W 29th St APT 5S</td>\n",
              "      <td>new york</td>\n",
              "      <td>NY</td>\n",
              "      <td>10001</td>\n",
              "      <td>5750000</td>\n",
              "      <td>2</td>\n",
              "      <td>3</td>\n",
              "      <td>2,140</td>\n",
              "      <td>Condo</td>\n",
              "    </tr>\n",
              "    <tr>\n",
              "      <th>3</th>\n",
              "      <td>357 W 30TH St APT 2</td>\n",
              "      <td>new york</td>\n",
              "      <td>NY</td>\n",
              "      <td>10001</td>\n",
              "      <td>675000</td>\n",
              "      <td>Studio</td>\n",
              "      <td>1</td>\n",
              "      <td>453</td>\n",
              "      <td>Condo</td>\n",
              "    </tr>\n",
              "    <tr>\n",
              "      <th>4</th>\n",
              "      <td>520 W 28th St # 5</td>\n",
              "      <td>new york</td>\n",
              "      <td>NY</td>\n",
              "      <td>10001</td>\n",
              "      <td>6450000</td>\n",
              "      <td>3</td>\n",
              "      <td>4</td>\n",
              "      <td>2,065</td>\n",
              "      <td>Condo</td>\n",
              "    </tr>\n",
              "  </tbody>\n",
              "</table>\n",
              "</div>"
            ],
            "text/plain": [
              "                address      city state  ...  baths   sqft   type\n",
              "0  515 W 29th St APT 3N  new york    NY  ...      3  2,133  Condo\n",
              "1  515 W 29th St APT 3S  new york    NY  ...      3  2,140  Condo\n",
              "2  515 W 29th St APT 5S  new york    NY  ...      3  2,140  Condo\n",
              "3   357 W 30TH St APT 2  new york    NY  ...      1    453  Condo\n",
              "4     520 W 28th St # 5  new york    NY  ...      4  2,065  Condo\n",
              "\n",
              "[5 rows x 9 columns]"
            ]
          },
          "metadata": {
            "tags": []
          },
          "execution_count": 57
        }
      ]
    },
    {
      "cell_type": "code",
      "metadata": {
        "id": "FlHKLtewOPBz",
        "colab_type": "code",
        "colab": {}
      },
      "source": [
        "#converting price to float for statistics purposes.\n",
        "property_data['price'] = property_data['price'].astype('float')"
      ],
      "execution_count": 0,
      "outputs": []
    },
    {
      "cell_type": "code",
      "metadata": {
        "id": "0ErJ0g67ORLB",
        "colab_type": "code",
        "outputId": "e2d20414-de1b-479e-909a-8d8044750ead",
        "colab": {
          "base_uri": "https://localhost:8080/",
          "height": 34
        }
      },
      "source": [
        "property_data['price'].dtypes"
      ],
      "execution_count": 0,
      "outputs": [
        {
          "output_type": "execute_result",
          "data": {
            "text/plain": [
              "dtype('float64')"
            ]
          },
          "metadata": {
            "tags": []
          },
          "execution_count": 59
        }
      ]
    },
    {
      "cell_type": "code",
      "metadata": {
        "id": "7DErn0eDOSyV",
        "colab_type": "code",
        "outputId": "38704405-b8b5-4e37-a30d-3b4a0b307ee7",
        "colab": {
          "base_uri": "https://localhost:8080/",
          "height": 629
        }
      },
      "source": [
        "property_data.groupby(['postal_code','beds','baths'])['price'].mean()"
      ],
      "execution_count": 0,
      "outputs": [
        {
          "output_type": "execute_result",
          "data": {
            "text/plain": [
              "postal_code  beds    baths\n",
              "10001        1       1        1.451652e+06\n",
              "                     2        1.433333e+06\n",
              "             2       1        1.064333e+06\n",
              "                     2        2.923333e+06\n",
              "                     3        4.861250e+06\n",
              "             3       3        2.550000e+06\n",
              "                     4        6.200000e+06\n",
              "             4       5        1.600000e+07\n",
              "             5       5        9.750000e+06\n",
              "             Studio  1        6.860714e+05\n",
              "10002        1       1        7.951875e+05\n",
              "                     2        2.650000e+06\n",
              "             2       1        7.311818e+05\n",
              "                     2        2.307625e+06\n",
              "             3       2        3.513000e+06\n",
              "                     3        4.201333e+06\n",
              "                     4        6.605000e+06\n",
              "             5       6        1.609500e+07\n",
              "             Studio  1        5.300000e+05\n",
              "10003        1       1        9.504073e+05\n",
              "                     2        3.250000e+06\n",
              "             2       2        2.531500e+06\n",
              "                     3        3.950000e+06\n",
              "             3       2        2.723750e+06\n",
              "             Studio  1        5.250000e+05\n",
              "10004        1       1        9.277000e+05\n",
              "                     2        9.875000e+05\n",
              "             2       1        1.100000e+06\n",
              "                     2        1.932600e+06\n",
              "                     3        3.022500e+06\n",
              "             3       3        3.470000e+06\n",
              "                     4        3.050000e+06\n",
              "             4       5        4.381667e+06\n",
              "             Studio  1        7.185000e+05\n",
              "Name: price, dtype: float64"
            ]
          },
          "metadata": {
            "tags": []
          },
          "execution_count": 67
        }
      ]
    },
    {
      "cell_type": "code",
      "metadata": {
        "id": "jCOYQwzCOU7_",
        "colab_type": "code",
        "outputId": "ec467ee9-5725-459b-c5da-d028150c154a",
        "colab": {
          "base_uri": "https://localhost:8080/",
          "height": 375
        }
      },
      "source": [
        "property_data.groupby(['postal_code','beds'])['price'].median().plot(kind='bar')"
      ],
      "execution_count": 0,
      "outputs": [
        {
          "output_type": "execute_result",
          "data": {
            "text/plain": [
              "<matplotlib.axes._subplots.AxesSubplot at 0x7fb4b11c3be0>"
            ]
          },
          "metadata": {
            "tags": []
          },
          "execution_count": 63
        },
        {
          "output_type": "display_data",
          "data": {
            "image/png": "[encoded data removed]",
            "text/plain": [
              "<Figure size 432x288 with 1 Axes>"
            ]
          },
          "metadata": {
            "tags": []
          }
        }
      ]
    },
    {
      "cell_type": "code",
      "metadata": {
        "id": "7UrpIjNtOXNV",
        "colab_type": "code",
        "outputId": "48df0afb-7705-4114-f052-c35bdeb572ce",
        "colab": {
          "base_uri": "https://localhost:8080/",
          "height": 364
        }
      },
      "source": [
        "property_data.groupby(['postal_code','beds'])['postal_code'].count().plot(kind='bar')"
      ],
      "execution_count": 0,
      "outputs": [
        {
          "output_type": "execute_result",
          "data": {
            "text/plain": [
              "<matplotlib.axes._subplots.AxesSubplot at 0x7fb4b0bcb748>"
            ]
          },
          "metadata": {
            "tags": []
          },
          "execution_count": 64
        },
        {
          "output_type": "display_data",
          "data": {
            "image/png": "[encoded data removed]",
            "text/plain": [
              "<Figure size 432x288 with 1 Axes>"
            ]
          },
          "metadata": {
            "tags": []
          }
        }
      ]
    },
    {
      "cell_type": "code",
      "metadata": {
        "id": "hT45zSDdOZeD",
        "colab_type": "code",
        "outputId": "4c7e3039-f54b-4a6e-db10-e45ba7455c11",
        "colab": {
          "base_uri": "https://localhost:8080/",
          "height": 386
        }
      },
      "source": [
        "# Scatterplot arguments\n",
        "sns.lmplot(x='postal_code', y='price', data=property_data,\n",
        "           fit_reg=False, # No regression line\n",
        "           hue='type') "
      ],
      "execution_count": 0,
      "outputs": [
        {
          "output_type": "execute_result",
          "data": {
            "text/plain": [
              "<seaborn.axisgrid.FacetGrid at 0x7fb4ae9218d0>"
            ]
          },
          "metadata": {
            "tags": []
          },
          "execution_count": 70
        },
        {
          "output_type": "display_data",
          "data": {
            "image/png": "[encoded data removed]",
            "text/plain": [
              "<Figure size 454.25x360 with 1 Axes>"
            ]
          },
          "metadata": {
            "tags": []
          }
        }
      ]
    },
    {
      "cell_type": "code",
      "metadata": {
        "id": "V1AU-Dl1V465",
        "colab_type": "code",
        "outputId": "2e45c707-11f7-42c5-b746-c1597054fb12",
        "colab": {
          "base_uri": "https://localhost:8080/",
          "height": 460
        }
      },
      "source": [
        "g = sns.factorplot(x='postal_code', \n",
        "                   y='price', \n",
        "                   data=property_data, \n",
        "                   hue='baths',  # Color by baths\n",
        "                   col='beds',  # Separate by beds\n",
        "                   kind='swarm') # Swarmplot\n",
        " \n",
        "# Rotate x-axis labels\n",
        "g.set_xticklabels(rotation=-45)"
      ],
      "execution_count": 0,
      "outputs": [
        {
          "output_type": "stream",
          "text": [
            "/usr/local/lib/python3.6/dist-packages/seaborn/categorical.py:3666: UserWarning: The `factorplot` function has been renamed to `catplot`. The original name will be removed in a future release. Please update your code. Note that the default `kind` in `factorplot` (`'point'`) has changed `'strip'` in `catplot`.\n",
            "  warnings.warn(msg)\n"
          ],
          "name": "stderr"
        },
        {
          "output_type": "execute_result",
          "data": {
            "text/plain": [
              "<seaborn.axisgrid.FacetGrid at 0x7fb4ae7726a0>"
            ]
          },
          "metadata": {
            "tags": []
          },
          "execution_count": 73
        },
        {
          "output_type": "display_data",
          "data": {
            "image/png": "[encoded data removed]",
            "text/plain": [
              "<Figure size 2202.38x360 with 6 Axes>"
            ]
          },
          "metadata": {
            "tags": []
          }
        }
      ]
    }
  ]
}